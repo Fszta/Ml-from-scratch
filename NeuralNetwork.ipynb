{
 "cells": [
  {
   "cell_type": "code",
   "execution_count": 1,
   "metadata": {},
   "outputs": [
    {
     "name": "stderr",
     "output_type": "stream",
     "text": [
      "Using TensorFlow backend.\n"
     ]
    }
   ],
   "source": [
    "import numpy as np\n",
    "import seaborn as sns\n",
    "import matplotlib.pyplot as plt\n",
    "from keras.utils import to_categorical\n",
    "from sklearn.datasets import load_iris, load_breast_cancer\n",
    "from sklearn.model_selection import train_test_split\n",
    "from sklearn.metrics import classification_report, confusion_matrix\n",
    "plt.style.use('seaborn')"
   ]
  },
  {
   "cell_type": "markdown",
   "metadata": {},
   "source": [
    "## Define activation function we'll use for our neural network"
   ]
  },
  {
   "cell_type": "code",
   "execution_count": 2,
   "metadata": {},
   "outputs": [],
   "source": [
    "def sigmoid(x):\n",
    "    return 1/(1+np.exp(-x))\n",
    "\n",
    "def tanh(self, x):\n",
    "    return np.tanh(x)"
   ]
  },
  {
   "cell_type": "markdown",
   "metadata": {},
   "source": [
    "## Visualize both activation function"
   ]
  },
  {
   "cell_type": "code",
   "execution_count": 3,
   "metadata": {},
   "outputs": [
    {
     "data": {
      "image/png": "[encoded data removed]",
      "text/plain": [
       "<Figure size 720x360 with 2 Axes>"
      ]
     },
     "metadata": {
      "needs_background": "light"
     },
     "output_type": "display_data"
    }
   ],
   "source": [
    "vect = np.linspace(-10,10,200)\n",
    "\n",
    "plt.figure(figsize=(10,5))\n",
    "plt.subplot(1,2,1)\n",
    "plt.title(\"Sigmoid representation\")\n",
    "plt.axhline(0, color='red')\n",
    "plt.plot(vect, sigmoid(vect))\n",
    "\n",
    "plt.subplot(1,2,2)\n",
    "plt.title(\"Tanh representation\")\n",
    "plt.axhline(0, color='red')\n",
    "plt.plot(vect, np.tanh(vect))\n",
    "\n",
    "plt.tight_layout()"
   ]
  },
  {
   "cell_type": "markdown",
   "metadata": {},
   "source": [
    "## Define basic neural network "
   ]
  },
  {
   "cell_type": "code",
   "execution_count": 4,
   "metadata": {},
   "outputs": [],
   "source": [
    "class NeuralNetwork:\n",
    "    \n",
    "    def __init__(self, X, y):\n",
    "        self.X = X\n",
    "        self.y = y\n",
    "        n_neurons = 15\n",
    "        n_output = y.shape[1]\n",
    "        self.w1 = 2 * np.random.rand(X.shape[1], n_neurons) - 1\n",
    "        self.w2 = w2 = 2 * np.random.rand(n_neurons, n_output) - 1\n",
    "        self.b1 = np.random.rand(1, n_neurons)\n",
    "        self.b2 = np.random.rand(1, n_output)\n",
    "        self.history_error = []\n",
    "        \n",
    "    def sigmoid(self, x):\n",
    "        return 1/(1+np.exp(-x))\n",
    "    \n",
    "    def der_sigmoid(self, x):\n",
    "        return sigmoid(x)*(1-sigmoid(x))\n",
    "    \n",
    "    def tanh(self, x):\n",
    "        return np.tanh(x)\n",
    "    \n",
    "    def der_tanh(self,x):\n",
    "        return 1 - self.tanh(x) ** 2\n",
    "    \n",
    "    def feedforward(self):\n",
    "        \n",
    "        # Dot product of input data & weigths + bias\n",
    "        self.z1 = np.dot(self.X, self.w1) + self.b1\n",
    "        # Pass it threw activation function\n",
    "        self.a1 = sigmoid(self.z1)\n",
    "        \n",
    "        # Same with layer 1 as input\n",
    "        self.z2 = np.dot(self.a1,self.w2) + self.b2\n",
    "        self.a2 = sigmoid(self.z2)\n",
    "        \n",
    "        # Compute & store error\n",
    "        error = (abs(self.y-self.a2)).mean()\n",
    "        self.history_error.append(error)\n",
    "        \n",
    "    def backpropagation(self):\n",
    "        \n",
    "        d_w2 = 2*(self.y-self.a2) * self.der_sigmoid(self.z2) \n",
    "        d_w1 = np.dot(d_w2,self.w2.T) * self.der_sigmoid(self.z1)\n",
    "\n",
    "        # Update weights\n",
    "        self.w1 += np.dot(self.X.T, d_w1) * self.learning_rate\n",
    "        self.w2 += np.dot(self.a1.T,d_w2) * self.learning_rate\n",
    "\n",
    "        # Update bias\n",
    "        for delta in d_w2:\n",
    "            self.b2 += self.learning_rate * delta\n",
    "\n",
    "        for delta in d_w1:\n",
    "            self.b1 += self.learning_rate * delta\n",
    "        \n",
    "    def train(self,epochs,learning_rate):  \n",
    "        \n",
    "        self.learning_rate = learning_rate\n",
    "        \n",
    "        for i in range(1,epochs):\n",
    "            self.feedforward()\n",
    "            self.backpropagation()\n",
    "        print(\"Final error:\", self.history_error[-1])\n",
    "            \n",
    "    def predict(self,X_test):\n",
    "        \"\"\"Return a list of prediction from test data\"\"\"\n",
    "        \n",
    "        a1 = self.sigmoid(np.dot(X_test, self.w1))\n",
    "        a2 = self.sigmoid(np.dot(a1, self.w2))\n",
    "        pred = []\n",
    "        \n",
    "        for i in a2:\n",
    "            pred.append(np.argmax(i))\n",
    "        \n",
    "        return pred\n",
    "        \n",
    "    def plot_error(self):\n",
    "        plt.figure(figsize=(5,5))\n",
    "        plt.title('Error over iterations')\n",
    "        plt.plot(range(0,len(self.history_error)),self.history_error)\n",
    "        plt.xlabel('Number of iteration')\n",
    "        plt.ylabel('Error')\n",
    "        "
   ]
  },
  {
   "cell_type": "code",
   "execution_count": 5,
   "metadata": {},
   "outputs": [],
   "source": [
    "data_iris = load_iris()\n",
    "data = data_iris.data"
   ]
  },
  {
   "cell_type": "code",
   "execution_count": 6,
   "metadata": {},
   "outputs": [],
   "source": [
    "y = to_categorical(data_iris.target)\n",
    "X = data\n",
    "X_train, X_test, y_train, y_test = train_test_split(X,y, test_size=0.2)"
   ]
  },
  {
   "cell_type": "markdown",
   "metadata": {},
   "source": [
    "## Let's test our neural network on iris dataset"
   ]
  },
  {
   "cell_type": "code",
   "execution_count": 7,
   "metadata": {},
   "outputs": [
    {
     "name": "stdout",
     "output_type": "stream",
     "text": [
      "Final error: 0.10456449880266164\n"
     ]
    },
    {
     "data": {
      "image/png": "[encoded data removed]",
      "text/plain": [
       "<Figure size 360x360 with 1 Axes>"
      ]
     },
     "metadata": {
      "needs_background": "light"
     },
     "output_type": "display_data"
    }
   ],
   "source": [
    "nnw = NeuralNetwork(X_train, y_train)\n",
    "nnw.train(epochs=2000, learning_rate=0.001)\n",
    "nnw.plot_error()\n",
    "pred = nnw.predict(X_test)"
   ]
  },
  {
   "cell_type": "code",
   "execution_count": 8,
   "metadata": {},
   "outputs": [
    {
     "name": "stdout",
     "output_type": "stream",
     "text": [
      "              precision    recall  f1-score   support\n",
      "\n",
      "           0       1.00      1.00      1.00        10\n",
      "           1       0.83      1.00      0.91        10\n",
      "           2       1.00      0.80      0.89        10\n",
      "\n",
      "    accuracy                           0.93        30\n",
      "   macro avg       0.94      0.93      0.93        30\n",
      "weighted avg       0.94      0.93      0.93        30\n",
      "\n"
     ]
    },
    {
     "data": {
      "text/plain": [
       "<matplotlib.axes._subplots.AxesSubplot at 0x7f5482858438>"
      ]
     },
     "execution_count": 8,
     "metadata": {},
     "output_type": "execute_result"
    },
    {
     "data": {
      "image/png": "[encoded data removed]",
      "text/plain": [
       "<Figure size 432x288 with 2 Axes>"
      ]
     },
     "metadata": {
      "needs_background": "light"
     },
     "output_type": "display_data"
    }
   ],
   "source": [
    "y_true = np.argmax(y_test,axis=1)\n",
    "print(classification_report(pred, y_true))\n",
    "\n",
    "plt.title('Confusion Matrix')\n",
    "sns.heatmap(confusion_matrix(pred,y_true), annot=True)"
   ]
  },
  {
   "cell_type": "code",
   "execution_count": 9,
   "metadata": {},
   "outputs": [],
   "source": [
    "class NeuralNetwork:\n",
    "    \n",
    "    def __init__(self, X, y):\n",
    "        self.X = X\n",
    "        self.y = y\n",
    "        n_neurons = 40\n",
    "        n_output = y.shape[1]\n",
    "        self.w1 = 2 * np.random.rand(X.shape[1], n_neurons) - 1\n",
    "        self.w2 = 2 * np.random.rand(n_neurons, 20) - 1\n",
    "        self.w3 = 2 * np.random.rand(20, n_output) - 1\n",
    "        self.b1 = np.random.rand(1, n_neurons)\n",
    "        self.b2 = np.random.rand(1, 20)\n",
    "        self.b3 = np.random.rand(1, n_output)\n",
    "\n",
    "        self.history_error = []\n",
    "        \n",
    "    def softmax(self,s):\n",
    "        exps = np.exp(s - np.max(s, axis=1, keepdims=True))\n",
    "        return exps/np.sum(exps, axis=1, keepdims=True)\n",
    "    \n",
    "    def cross_entropy(self,pred, real):\n",
    "        n_samples = real.shape[0]\n",
    "        res = pred - real\n",
    "        return res/n_samples\n",
    "\n",
    "    def sigmoid(self, x):\n",
    "        return 1/(1+np.exp(-x))\n",
    "    \n",
    "    def der_sigmoid(self,x):\n",
    "        return sigmoid(x)*(1-sigmoid(x))\n",
    "    \n",
    "    def tanh(self, x):\n",
    "        return np.tanh(x)\n",
    "    \n",
    "    def der_tanh(self,x):\n",
    "        return 1 - self.tanh(x) ** 2\n",
    "    \n",
    "    def feedforward(self):\n",
    "        \n",
    "        # Dot product of input data & weigths + bias\n",
    "        self.z1 = np.dot(self.X, self.w1) + self.b1\n",
    "        # Pass it threw activation function\n",
    "        self.a1 = self.tanh(self.z1)\n",
    "        \n",
    "        # Same with layer 1 as input\n",
    "        self.z2 = np.dot(self.a1,self.w2) + self.b2\n",
    "        self.a2 = self.sigmoid(self.z2)\n",
    "        \n",
    "        self.z3 = np.dot(self.a2,self.w3) + self.b3\n",
    "        self.a3 = self.sigmoid(self.z3)\n",
    "        \n",
    "        # Compute & store error\n",
    "        # error = (abs(self.y-self.a3)).mean()\n",
    "        error = np.square(self.y - self.a3).mean()\n",
    "        self.history_error.append(error)\n",
    "        \n",
    "    def backpropagation(self):\n",
    "        d_w3 = 2*(self.y-self.a3) * self.der_sigmoid(self.z3) \n",
    "        # d_w3  = self.cross_entropy(self.a3, self.y)        \n",
    "        d_w2 = np.dot(d_w3,self.w3.T) * self.der_sigmoid(self.z2)\n",
    "        d_w1 = np.dot(d_w2,self.w2.T) * self.der_tanh(self.z1)\n",
    "    \n",
    "\n",
    "        # Update weights\n",
    "        self.w1 += np.dot(self.X.T, d_w1) * self.learning_rate\n",
    "        self.w2 += np.dot(self.a1.T,d_w2) * self.learning_rate\n",
    "        self.w3 += np.dot(self.a2.T,d_w3) * self.learning_rate\n",
    "\n",
    "        # Update bias\n",
    "        for delta in d_w3:\n",
    "            self.b3 += self.learning_rate * delta\n",
    "            \n",
    "        for delta in d_w2:\n",
    "            self.b2 += self.learning_rate * delta\n",
    "\n",
    "        for delta in d_w1:\n",
    "            self.b1 += self.learning_rate * delta\n",
    "        \n",
    "    def train(self,epochs,learning_rate):  \n",
    "        \n",
    "        self.learning_rate = learning_rate\n",
    "        \n",
    "        for i in range(1,epochs):\n",
    "            self.feedforward()\n",
    "            self.backpropagation()\n",
    "        print(\"Final error:\", self.history_error[-1])\n",
    "            \n",
    "    def predict(self,X_test):\n",
    "        \"\"\"Return a list of prediction from test data\"\"\"\n",
    "        \n",
    "        a1 = self.tanh(np.dot(X_test, self.w1))\n",
    "        a2 = self.sigmoid(np.dot(a1, self.w2))\n",
    "        a3 = self.sigmoid(np.dot(a2, self.w3))\n",
    "        pred = []\n",
    "        \n",
    "        for i in a3:\n",
    "            pred.append(np.argmax(i))\n",
    "        \n",
    "        return pred\n",
    "        \n",
    "    def plot_error(self):\n",
    "        plt.figure(figsize=(5,5))\n",
    "        plt.title('Error over iterations')\n",
    "        plt.plot(range(0,len(self.history_error)), self.history_error)\n",
    "        plt.xlabel('Number of iteration')\n",
    "        plt.ylabel('Error')\n",
    "        "
   ]
  },
  {
   "cell_type": "code",
   "execution_count": 10,
   "metadata": {},
   "outputs": [
    {
     "name": "stdout",
     "output_type": "stream",
     "text": [
      "Final error: 0.01527944904797521\n"
     ]
    },
    {
     "data": {
      "image/png": "[encoded data removed]",
      "text/plain": [
       "<Figure size 360x360 with 1 Axes>"
      ]
     },
     "metadata": {
      "needs_background": "light"
     },
     "output_type": "display_data"
    }
   ],
   "source": [
    "nnw = NeuralNetwork(X_train, y_train)\n",
    "nnw.train(epochs=1000, learning_rate=0.001)\n",
    "nnw.plot_error()\n",
    "pred = nnw.predict(X_test)"
   ]
  },
  {
   "cell_type": "code",
   "execution_count": 11,
   "metadata": {},
   "outputs": [
    {
     "name": "stdout",
     "output_type": "stream",
     "text": [
      "              precision    recall  f1-score   support\n",
      "\n",
      "           0       1.00      1.00      1.00        10\n",
      "           1       0.42      1.00      0.59         5\n",
      "           2       1.00      0.53      0.70        15\n",
      "\n",
      "    accuracy                           0.77        30\n",
      "   macro avg       0.81      0.84      0.76        30\n",
      "weighted avg       0.90      0.77      0.78        30\n",
      "\n"
     ]
    },
    {
     "data": {
      "text/plain": [
       "<matplotlib.axes._subplots.AxesSubplot at 0x7f54827966a0>"
      ]
     },
     "execution_count": 11,
     "metadata": {},
     "output_type": "execute_result"
    },
    {
     "data": {
      "image/png": "[encoded data removed]",
      "text/plain": [
       "<Figure size 432x288 with 2 Axes>"
      ]
     },
     "metadata": {
      "needs_background": "light"
     },
     "output_type": "display_data"
    }
   ],
   "source": [
    "y_true = np.argmax(y_test,axis=1)\n",
    "print(classification_report(pred, y_true))\n",
    "\n",
    "plt.title('Confusion Matrix')\n",
    "sns.heatmap(confusion_matrix(pred,y_true), annot=True)"
   ]
  }
 ],
 "metadata": {
  "kernelspec": {
   "display_name": "Python 3",
   "language": "python",
   "name": "python3"
  },
  "language_info": {
   "codemirror_mode": {
    "name": "ipython",
    "version": 3
   },
   "file_extension": ".py",
   "mimetype": "text/x-python",
   "name": "python",
   "nbconvert_exporter": "python",
   "pygments_lexer": "ipython3",
   "version": "3.5.2"
  }
 },
 "nbformat": 4,
 "nbformat_minor": 2
}
